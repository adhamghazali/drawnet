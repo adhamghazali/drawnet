{
 "cells": [
  {
   "cell_type": "code",
   "execution_count": 1,
   "id": "8c2201ea",
   "metadata": {},
   "outputs": [],
   "source": [
    "import numpy as np \n",
    "import pandas as pd \n",
    "import os\n",
    "import requests\n",
    "import shutil\n",
    "import csv\n",
    "from tqdm.notebook import tqdm\n",
    "thepart=0"
   ]
  },
  {
   "cell_type": "code",
   "execution_count": 2,
   "id": "dde0f72b",
   "metadata": {},
   "outputs": [],
   "source": [
    "name=r'D:\\archive'"
   ]
  },
  {
   "cell_type": "code",
   "execution_count": 3,
   "id": "ca93207e",
   "metadata": {},
   "outputs": [
    {
     "data": {
      "text/plain": [
       "'D:\\\\archive\\\\part-00000-5b54c5d5-bbcf-484d-a2ce-0d6f73df1a36-c000.snappy.parquet'"
      ]
     },
     "execution_count": 3,
     "metadata": {},
     "output_type": "execute_result"
    }
   ],
   "source": [
    "parts=[os.path.join(name,i) for i in os.listdir(name)]\n",
    "parts[0]"
   ]
  },
  {
   "cell_type": "code",
   "execution_count": 4,
   "id": "cf3ed983",
   "metadata": {},
   "outputs": [],
   "source": [
    "df = pd.read_parquet(parts[thepart])"
   ]
  },
  {
   "cell_type": "code",
   "execution_count": null,
   "id": "ebc26355",
   "metadata": {},
   "outputs": [],
   "source": []
  },
  {
   "cell_type": "code",
   "execution_count": null,
   "id": "10b11e07",
   "metadata": {},
   "outputs": [],
   "source": []
  },
  {
   "cell_type": "code",
   "execution_count": 6,
   "id": "3256795a",
   "metadata": {},
   "outputs": [],
   "source": [
    "def download_url(url,filename):\n",
    "    try:\n",
    "        res = requests.get(url, stream = True)\n",
    "    except:\n",
    "        return False\n",
    "    \n",
    "    if res.status_code == 200:\n",
    "        \n",
    "        with open(filename,'wb') as f:\n",
    "            shutil.copyfileobj(res.raw, f)\n",
    "            \n",
    "        return True\n",
    "            #print('Image sucessfully Downloaded: ',file_name)\n",
    "    else:\n",
    "        return False\n",
    "        "
   ]
  },
  {
   "cell_type": "code",
   "execution_count": null,
   "id": "61afaf31",
   "metadata": {},
   "outputs": [
    {
     "data": {
      "application/vnd.jupyter.widget-view+json": {
       "model_id": "df74526e96a94407bca2cfd5d659307e",
       "version_major": 2,
       "version_minor": 0
      },
      "text/plain": [
       "  0%|          | 0/12933524 [00:00<?, ?it/s]"
      ]
     },
     "metadata": {},
     "output_type": "display_data"
    },
    {
     "name": "stdout",
     "output_type": "stream",
     "text": [
      "unable to download url\n",
      "unable to download url\n",
      "unable to download url\n",
      "unable to download url\n",
      "unable to download url\n",
      "unable to download url\n",
      "unable to download url\n",
      "unable to download url\n",
      "unable to download url\n",
      "unable to download url\n",
      "unable to download url\n",
      "unable to download url\n",
      "unable to download url\n",
      "unable to download url\n",
      "unable to download url\n",
      "unable to download url\n",
      "unable to download url\n",
      "unable to download url\n",
      "unable to download url\n",
      "unable to download url\n",
      "unable to download url\n",
      "unable to download url\n",
      "unable to download url\n",
      "unable to download url\n",
      "unable to download url\n",
      "unable to download url\n",
      "unable to download url\n",
      "unable to download url\n",
      "unable to download url\n",
      "unable to download url\n"
     ]
    }
   ],
   "source": [
    "pathname=r'D:\\laion400m\\images_'+str(thepart)\n",
    "if not os.path.exists(pathname):\n",
    "    os.makedirs(pathname)\n",
    "rows=[]\n",
    "csvfile=r'D:\\laion400m\\laion_data_'+str(thepart)+'.csv'\n",
    "\n",
    "with open(csvfile, 'w', encoding='UTF8', newline='') as f:\n",
    "    writer = csv.writer(f)\n",
    "    \n",
    "    for i in tqdm(range(0,len(df))):  #to len(df)\n",
    "        url=df[\"URL\"][i]\n",
    "        idx=str(i)+'.png'# need to figure out a unique index\n",
    "        filename=os.path.join(pathname,idx)\n",
    "\n",
    "\n",
    "        if download_url(url, filename): \n",
    "            text=df[\"TEXT\"][i]\n",
    "            row=[filename,text]\n",
    "            writer.writerow(row)\n",
    "            \n",
    "            #rows.append(row)\n",
    "        else:\n",
    "            print('unable to download url')\n",
    "            continue\n"
   ]
  },
  {
   "cell_type": "code",
   "execution_count": null,
   "id": "6122ff63",
   "metadata": {},
   "outputs": [],
   "source": [
    "\n"
   ]
  },
  {
   "cell_type": "code",
   "execution_count": null,
   "id": "f7016658",
   "metadata": {},
   "outputs": [],
   "source": [
    "### Need a better way to downlaod that much images!"
   ]
  },
  {
   "cell_type": "code",
   "execution_count": 8,
   "id": "ded29c2b",
   "metadata": {},
   "outputs": [
    {
     "data": {
      "application/vnd.jupyter.widget-view+json": {
       "model_id": "7fff20c1d69146ca8d6f78da91d6d759",
       "version_major": 2,
       "version_minor": 0
      },
      "text/plain": [
       "  0%|          | 0/50 [00:00<?, ?it/s]"
      ]
     },
     "metadata": {},
     "output_type": "display_data"
    }
   ],
   "source": [
    "URLS=[]\n",
    "TEXTS=[]\n",
    "for i in tqdm(range(0,50)):  #to len(df)\n",
    "    #print(df['URL'][i])\n",
    "    URLS.append(df[\"URL\"][i])\n",
    "    TEXTS.append(df['TEXT'][i])\n",
    "    "
   ]
  },
  {
   "cell_type": "code",
   "execution_count": 9,
   "id": "57cb1b97",
   "metadata": {},
   "outputs": [
    {
     "data": {
      "text/plain": [
       "['http://media.rightmove.co.uk/148k/147518/58718876/147518_SWO160154_EPCGRAPH_01_0000_max_135x100.png',\n",
       " 'https://thumbs.ebaystatic.com/images/g/DYEAAOSwMHdXR0Vh/s-l225.jpg',\n",
       " 'https://farm1.staticflickr.com/784/40182677504_27d67600f3_o.jpg',\n",
       " 'https://t2.ftcdn.net/jpg/00/58/35/35/240_F_58353522_3plS29kylx1KZQ0lU6pYHuCAhUINvCSp.jpg',\n",
       " 'https://findingblanche.files.wordpress.com/2013/07/photo4-1.jpg?w=764&',\n",
       " 'https://i.pinimg.com/236x/03/38/05/0338055833ee2afb2826fd3b7fd1dabc.jpg',\n",
       " 'http://d25hqtnqp5nl24.cloudfront.net/images/products/9/LN_364314_BP_9.jpg',\n",
       " 'http://cdn.pastemagazine.com/www/articles/2011/02/04/benaffleck.jpg?635339351410282708',\n",
       " 'https://chambermaster.blob.core.windows.net/images/members/653/1571/MemLogoSearch_MNDOT-new.jpg',\n",
       " 'https://cdn2.mecum.com/auctions/fl0121/fl0121-443116/thumbnails/dsc0164-1609793793911.jpg?1609799199000',\n",
       " 'http://images.fineartamerica.com/images-greeting-cards-real/greeting-card-clapton-live-david-lloyd-glover.jpg',\n",
       " 'https://buidln.clipdealer.com/001/841/344//search/1.jpg',\n",
       " 'https://www.rockfordsystems.com/wp-content/uploads/2015/04/kst194-p.jpg',\n",
       " 'https://superxclusive.com/wp-content/uploads/2018/01/Sunny-Ade_Fela-Kuti-150x150.jpg',\n",
       " 'https://www.nutramini.com/wp-content/uploads/2019/12/Essence-of-Argan-350x220.jpg',\n",
       " 'https://i.ebayimg.com/thumbs/images/g/Q4EAAOSwtOlboRw6/s-l200.jpg',\n",
       " 'https://20.cdn.ekm.net/ekmps/shops/d2d14c/images/dust-devil-bbs-.177-box-of-1500-by-air-venturi-835-p.jpeg?w=360&h=270&v=1',\n",
       " 'http://rlv.zcache.co.uk/surfer_happy_twelfth_birthday_card-r4694f3338dbb42c88522a5f9868c6d75_xvuat_8byvr_324.jpg',\n",
       " 'http://media.cameracanada.com/CC/productimage/Canon/Canon_5D_Mark_Iv_b.jpg',\n",
       " 'http://static6.depositphotos.com/1000292/539/i/170/depositphotos_5395833-Beautiful-happy-smiling-woman-in-kitchen-interior..jpg',\n",
       " 'https://cdn.influenster.com/media/hub/post/image/Artboard_WK25MC0.jpeg',\n",
       " 'http://sc01.alicdn.com/kf/HTB1E7fDKFXXXXbwXXXXq6xXFXXXq/4x8-galvanized-corrugated-steel-sheet.jpg_200x200.jpg',\n",
       " 'http://tse2.mm.bing.net/th?id=OIP.4NnZIvhZvhLcIimiY9G73QHaFj',\n",
       " 'https://crystal-cdn4.crystalcommerce.com/photos/689979/medium/LmLcAhd6yRv6jYQu.jpg',\n",
       " 'https://cdn3.mecum.com/auctions/ha0413/ha0413-154735/consign/ha0413-154735_consign.jpg?1363216046000',\n",
       " 'https://images.halloweencostumes.co.uk/products/30611/1-21/womens-princess-little-deer-native-american-costume.jpg',\n",
       " 'https://ssl.c.photoshelter.com/img-get/I0000k.PWNXFIzGw/t/200/I0000k.PWNXFIzGw.jpg',\n",
       " 'http://rlv.zcache.com/asian_elephant_sticker-ra7de170f56104136b4107bf7dbb29132_v9wf3_8byvr_152.jpg',\n",
       " 'https://media.jewelfeed.com/catalog/items/ade877cd-3f00-4ac6-999d-2dc33172c294.jpg.350x350_q85_background.jpg',\n",
       " 'https://cdn01.pinkoi.com/product/gugp9HET/0/320x320.jpg',\n",
       " 'http://cdn3.volusion.com/r3udr.64tdh/v/vspfiles/photos/ST336754LW-1.jpg',\n",
       " 'https://i.ebayimg.com/thumbs/images/g/P4sAAOSwfkVfA81X/s-l225.jpg',\n",
       " 'https://www.iceposter.com/thumbs/MOV_9772893f.jpg',\n",
       " 'http://thumbs.slideserve.com/1_6090843.jpg',\n",
       " 'https://render.fineartamerica.com/images/rendered/small/metal-print/images-square-real-5/the-projection-room-4675-timothy-bischoff.jpg',\n",
       " 'https://www.abcpropertyexperts.com/wp-content/uploads/2017/05/villas-la-cala-costa-del-sol-abc-property-experts-3165277-488x326.jpg',\n",
       " 'https://wpsites.net/wp-content/uploads/2012/04/Hostgator-640x357.png',\n",
       " 'https://www.computerg.eu/image/cache/catalog/_5931-600x600.jpg',\n",
       " 'http://i.ndtvimg.com/video/images/vod/thumb/2016-09/thumb_433163_1475221482.jpg',\n",
       " 'https://us.123rf.com/450wm/wahyufrida/wahyufrida1903/wahyufrida190302465/119835209-stock-vector-fire-flame-logo-template-vector-icon-oil-gas-and-energy-logo-concept.jpg?ver=6',\n",
       " 'https://thumbs.dreamstime.com/x/isolated-quince-jam-jar-fruit-8449480.jpg',\n",
       " 'https://16zypw1pighqx2n3o4ber801-wpengine.netdna-ssl.com/wp-content/uploads/2013/10/PE3184-Turquoise-Cross-Turquoise-Inlay-Cross-Pendant-by-Navajo-Indian-jewelry-artist-Peterson-Chee-129--416x312.jpg',\n",
       " 'http://auschesschamps.com/wp-content/uploads/2013/09/NPCC-Logo.png',\n",
       " 'https://dspncdn.com/a1/media/236x/51/0e/55/510e55e3e67ffe75823706c337ffee67.jpg',\n",
       " 'http://img2.imagesbn.com/p/9781473308169_p0_v1_s260x420.JPG',\n",
       " 'https://www.gamepark.ru/upload/resize_cache/iblock/d0b/120_170_1/htmlimage-_1_.png',\n",
       " 'https://cdn-images.threadless.com/threadless-media/artist_shops/shops/kilopop/products/216513/shirt-1493079221-0dbf4fc0a0085245322065f096af616c.png?v=3&d=eyJvbmx5X21ldGEiOiBmYWxzZSwgImZvcmNlIjogZmFsc2UsICJvcHMiOiBbWyJ0cmltc2NyaXB0IiwgWzgzNi4wLCAxMjY0LjI4NTcxNDI4NTcxNDJdLCB7fV0sIFsiZW5jb2RlIiwgWyIucG5nIl0sIHsiZHBpIjogMzAwfV0sIFsicmVzaXplIiwgWzY0MF0sIHt9XSwgWyJvdmVybGF5IiwgWyJ0aHJlYWRsZXNzLW1lZGlhL2FydGlzdF9zaG9wcy9vdmVybGF5cy9jYXRlZ29yaWVzL2tpZHMvc2l6ZXMvKi9zdHlsZXMvbG9uZ3NsZWV2ZS10LXNoaXJ0L2NvbG9ycy8qL2Zyb250LTE0NTY4Njk3MzEtYzIzNmVjOGU5NDZlYWNiMWU5ODhkZGFhODQwN2ZmNTIucG5nIl0sIHsieSI6IDU1MCwgIngiOiA2ODcsICJiYWNrZ3JvdW5kIjogIjFmMjMzMSJ9XSwgWyJyZXNpemUiLCBbODAwXSwge31dLCBbImNhbnZhc19jZW50ZXJlZCIsIFs4MDAsIDgwMCwgIiNmZmZmZmYiXSwge31dLCBbImVuY29kZSIsIFsianBnIiwgODVdLCB7fV1dfQ==',\n",
       " 'https://apollo-singapore.akamaized.net:443/v1/files/dvb3xjlv2n6m1-IN/image;s=272x0',\n",
       " 'https://thumbs.dreamstime.com/m/christmas-background-happy-kids-presents-space-text-35759534.jpg',\n",
       " 'https://riverisland.scene7.com/is/image/RiverIsland/827860_main?$CrossSellProductPage300$&locale=en']"
      ]
     },
     "execution_count": 9,
     "metadata": {},
     "output_type": "execute_result"
    }
   ],
   "source": [
    "URLS\n"
   ]
  },
  {
   "cell_type": "code",
   "execution_count": 21,
   "id": "45bd0024",
   "metadata": {},
   "outputs": [
    {
     "name": "stderr",
     "output_type": "stream",
     "text": [
      "100%|███████████████████████████████████████████████████████████████████████████████████████████████████████████████████████████████████████████████████████████████████████████████████████████████████████████████| 2/2 [00:00<?, ?it/s]\n"
     ]
    }
   ],
   "source": [
    "from imgdl import download\n",
    "\n",
    "store_path=r'D:\\laion400m\\test_folder\\\\'\n",
    "\n",
    "urls=['https://thumbs.dreamstime.com/m/christmas-background-happy-kids-presents-space-text-3575dfdfdsfdfs9534.jpg','https://thumbs.dreamstime.com/m/christmas-background-happy-kids-presents-space-text-35759534.jpg']\n",
    "\n",
    "paths = download(urls, store_path=r'D:\\laion400m\\test_folder\\\\', n_workers=2)"
   ]
  },
  {
   "cell_type": "code",
   "execution_count": 22,
   "id": "c7e34db1",
   "metadata": {},
   "outputs": [
    {
     "data": {
      "text/plain": [
       "[None, None]"
      ]
     },
     "execution_count": 22,
     "metadata": {},
     "output_type": "execute_result"
    }
   ],
   "source": [
    "paths"
   ]
  },
  {
   "cell_type": "code",
   "execution_count": null,
   "id": "f65784c6",
   "metadata": {},
   "outputs": [],
   "source": []
  },
  {
   "cell_type": "code",
   "execution_count": null,
   "id": "4836b6d0",
   "metadata": {},
   "outputs": [],
   "source": []
  },
  {
   "cell_type": "code",
   "execution_count": null,
   "id": "4ee46580",
   "metadata": {},
   "outputs": [],
   "source": []
  },
  {
   "cell_type": "code",
   "execution_count": null,
   "id": "b73ed640",
   "metadata": {},
   "outputs": [],
   "source": []
  }
 ],
 "metadata": {
  "kernelspec": {
   "display_name": "Python 3 (ipykernel)",
   "language": "python",
   "name": "python3"
  },
  "language_info": {
   "codemirror_mode": {
    "name": "ipython",
    "version": 3
   },
   "file_extension": ".py",
   "mimetype": "text/x-python",
   "name": "python",
   "nbconvert_exporter": "python",
   "pygments_lexer": "ipython3",
   "version": "3.7.7"
  }
 },
 "nbformat": 4,
 "nbformat_minor": 5
}
