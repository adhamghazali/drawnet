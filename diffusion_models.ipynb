{
 "cells": [
  {
   "cell_type": "markdown",
   "id": "b91e966d",
   "metadata": {},
   "source": [
    "#### download  dataset"
   ]
  },
  {
   "cell_type": "code",
   "execution_count": null,
   "id": "b55c7184",
   "metadata": {},
   "outputs": [],
   "source": [
    "#!pip install datasets"
   ]
  },
  {
   "cell_type": "code",
   "execution_count": 1,
   "id": "626eebff",
   "metadata": {},
   "outputs": [],
   "source": [
    "from datasets import load_dataset\n",
    "from PIL import Image\n",
    "import torch.nn.functional as F\n",
    "import os\n",
    "from tqdm.notebook import tqdm\n",
    "import torch\n",
    "import numpy as np\n"
   ]
  },
  {
   "cell_type": "code",
   "execution_count": null,
   "id": "57c6e14f",
   "metadata": {},
   "outputs": [],
   "source": [
    "\n",
    "cifar10 = load_dataset('cifar10')\n"
   ]
  },
  {
   "cell_type": "code",
   "execution_count": null,
   "id": "0a59889d",
   "metadata": {},
   "outputs": [],
   "source": [
    "\n",
    "# View some examples:\n",
    "image = Image.new('RGB', size=(32*5, 32*2))\n",
    "for i in range(10):\n",
    "  im = cifar10['train'][i]['img']\n",
    "  image.paste(im, ( (i%5)*32, (i//5)*32 ))\n",
    "image.resize((32*5*4, 32*2*4), Image.NEAREST)"
   ]
  },
  {
   "cell_type": "markdown",
   "id": "d8cb0d17",
   "metadata": {},
   "source": [
    "### Utils"
   ]
  },
  {
   "cell_type": "code",
   "execution_count": 2,
   "id": "006072ea",
   "metadata": {},
   "outputs": [],
   "source": [
    "def img_to_tensor(im):\n",
    "    return torch.tensor(np.array(im.convert('RGB'))/255).permute(2, 0, 1).unsqueeze(0) * 2 - 1\n",
    "\n",
    "def tensor_to_image(t):\n",
    "    return Image.fromarray(np.array(((t.squeeze().permute(1, 2, 0)+1)/2).clip(0, 1)*255).astype(np.uint8))\n",
    "\n",
    "def gather(consts: torch.Tensor, t: torch.Tensor):\n",
    "    \"\"\"Gather consts for $t$ and reshape to feature map shape\"\"\"\n",
    "    c = consts.gather(-1, t)\n",
    "    return c.reshape(-1, 1, 1, 1)\n"
   ]
  },
  {
   "cell_type": "markdown",
   "id": "8d9c970c",
   "metadata": {},
   "source": [
    "### Adding Noise"
   ]
  },
  {
   "cell_type": "code",
   "execution_count": 3,
   "id": "126f6ebe",
   "metadata": {},
   "outputs": [],
   "source": [
    "n_steps = 100 # number of noising steps\n",
    "beta = torch.linspace(0.0001, 0.04, n_steps)\n",
    "\n"
   ]
  },
  {
   "cell_type": "code",
   "execution_count": 4,
   "id": "7c0fa346",
   "metadata": {},
   "outputs": [],
   "source": [
    "def add_noise_one_step(xtm1,t):\n",
    "    mean = gather(1. - beta, t) ** 0.5 * xtm1 # √(1−βt)*xtm1\n",
    "    var = gather(beta, t) # βt I\n",
    "    \n",
    "    eps = torch.randn_like(xtm1) # Noise shaped like xtm1\n",
    "    return mean + (var ** 0.5) * eps\n"
   ]
  },
  {
   "cell_type": "code",
   "execution_count": 5,
   "id": "40ed7833",
   "metadata": {},
   "outputs": [],
   "source": [
    "def add_noise_multi_step(xtm1,n_of_steps):\n",
    "    x = img_to_tensor(xtm1).squeeze()\n",
    "\n",
    "    for t in range(n_of_steps):\n",
    "        t = torch.tensor(t, dtype=torch.long) \n",
    "        \n",
    "        x = add_noise_one_step(x, t)\n",
    "    return x\n",
    "        "
   ]
  },
  {
   "cell_type": "code",
   "execution_count": null,
   "id": "de7baea9",
   "metadata": {},
   "outputs": [],
   "source": [
    "n_steps = 100\n",
    "beta = torch.linspace(0.0001, 0.04, n_steps)\n",
    "alpha = 1. - beta\n",
    "alpha_bar = torch.cumprod(alpha, dim=0)\n",
    "\n",
    "\n",
    "def add_noise_multi_step_fast(x0, t):\n",
    "    x0 = img_to_tensor(x0).squeeze()\n",
    "    t = torch.tensor(t, dtype=torch.long)\n",
    "    \n",
    "    mean = gather(alpha_bar, t) ** 0.5 * x0 # now alpha_bar\n",
    "    var = 1-gather(alpha_bar, t) # (1-alpha_bar)\n",
    "    eps = torch.randn_like(x0)\n",
    "    return mean + (var ** 0.5) * eps"
   ]
  },
  {
   "cell_type": "code",
   "execution_count": null,
   "id": "b56358ff",
   "metadata": {},
   "outputs": [],
   "source": [
    "# Show im at different stages\n",
    "im = cifar10['train'][10]['img']\n",
    "image = Image.new('RGB', size=(32*2, 32))\n",
    "\n",
    "image.paste(im, ((0, 0)))\n",
    "\n",
    "#add noise\n",
    "#im2=add_noise_multi_step(im,50)\n",
    "im2=add_noise_multi_step_fast(im,40)\n",
    "\n",
    "im2=tensor_to_image(im2)\n",
    "            \n",
    "image.paste(im2, ((32, 0)))\n",
    "\n",
    "\n",
    "image.resize((32*4*2, 32*4), Image.NEAREST)"
   ]
  },
  {
   "cell_type": "markdown",
   "id": "0e0a0b74",
   "metadata": {},
   "source": [
    "# UNet"
   ]
  },
  {
   "cell_type": "code",
   "execution_count": 6,
   "id": "fd42f36e",
   "metadata": {},
   "outputs": [],
   "source": [
    "import unet"
   ]
  },
  {
   "cell_type": "code",
   "execution_count": null,
   "id": "0e5f0d70",
   "metadata": {},
   "outputs": [],
   "source": [
    "x = torch.randn(10, 3, 32, 32)\n",
    "t = torch.tensor([50.], dtype=torch.long)\n",
    "\n",
    "model = unet.UNet()\n",
    "\n",
    "model_output = model(x, t)\n",
    "model_output.shape\n"
   ]
  },
  {
   "cell_type": "markdown",
   "id": "2b489b11",
   "metadata": {},
   "source": [
    "### Training "
   ]
  },
  {
   "cell_type": "code",
   "execution_count": null,
   "id": "aa5b3798",
   "metadata": {},
   "outputs": [],
   "source": [
    "model = unet.UNet(n_channels=32).cuda()\n",
    "\n",
    "n_steps = 100\n",
    "beta = torch.linspace(0.0001, 0.04, n_steps).cuda()\n",
    "alpha = 1. - beta\n",
    "alpha_bar = torch.cumprod(alpha, dim=0)\n",
    "\n",
    "\n",
    "def add_noise_fast(x0, t):\n",
    "    mean = gather(alpha_bar, t) ** 0.5 * x0\n",
    "    var = 1-gather(alpha_bar, t)\n",
    "    eps = torch.randn_like(x0).to(x0.device)\n",
    "    return mean + (var ** 0.5) * eps, eps \n",
    "\n",
    "batch_size = 128 \n",
    "lr = 2e-4 \n",
    "\n",
    "losses = [] \n",
    "\n",
    "dataset = cifar10['train']#.select(range(100)) \n",
    "\n",
    "optim = torch.optim.AdamW(model.parameters(), lr=lr) \n",
    "\n",
    "for i in range(0, len(dataset)-batch_size, batch_size):\n",
    "    \n",
    "    optim.zero_grad() \n",
    "    ims = [dataset[idx]['img'] for idx in range(i,i+batch_size)] \n",
    "    tims = [img_to_tensor(im).cuda() for im in ims] \n",
    "    x0 = torch.cat(tims) \n",
    "    t = torch.randint(0, n_steps, (batch_size,), dtype=torch.long).cuda()  \n",
    "    xt, noise = add_noise_fast(x0, t) \n",
    "    \n",
    "    pred_noise = model(xt.float(), t) \n",
    "    loss = F.mse_loss(noise.float(), pred_noise)\n",
    "    losses.append(loss.item()) \n",
    "    loss.backward() \n",
    "    optim.step() \n",
    "    if i%200==0:\n",
    "        print(loss)"
   ]
  },
  {
   "cell_type": "code",
   "execution_count": null,
   "id": "b6b5b220",
   "metadata": {},
   "outputs": [],
   "source": [
    "from matplotlib import pyplot as plt\n",
    "plt.plot(losses)"
   ]
  },
  {
   "cell_type": "code",
   "execution_count": 9,
   "id": "2b8b0eb0",
   "metadata": {},
   "outputs": [
    {
     "ename": "RuntimeError",
     "evalue": "Exporting the operator einsum to ONNX opset version 9 is not supported. Support for this operator was added in version 12, try exporting with this version.",
     "output_type": "error",
     "traceback": [
      "\u001b[1;31m---------------------------------------------------------------------------\u001b[0m",
      "\u001b[1;31mRuntimeError\u001b[0m                              Traceback (most recent call last)",
      "\u001b[1;32m~\\AppData\\Local\\Temp\\ipykernel_32036\\2384450358.py\u001b[0m in \u001b[0;36m<module>\u001b[1;34m\u001b[0m\n\u001b[0;32m      5\u001b[0m \u001b[0mmodel\u001b[0m \u001b[1;33m=\u001b[0m \u001b[0munet\u001b[0m\u001b[1;33m.\u001b[0m\u001b[0mUNet\u001b[0m\u001b[1;33m(\u001b[0m\u001b[0mn_channels\u001b[0m\u001b[1;33m=\u001b[0m\u001b[1;36m32\u001b[0m\u001b[1;33m)\u001b[0m\u001b[1;33m\u001b[0m\u001b[1;33m\u001b[0m\u001b[0m\n\u001b[0;32m      6\u001b[0m \u001b[1;33m\u001b[0m\u001b[0m\n\u001b[1;32m----> 7\u001b[1;33m \u001b[0mtorch\u001b[0m\u001b[1;33m.\u001b[0m\u001b[0monnx\u001b[0m\u001b[1;33m.\u001b[0m\u001b[0mexport\u001b[0m\u001b[1;33m(\u001b[0m\u001b[0mmodel\u001b[0m\u001b[1;33m,\u001b[0m \u001b[1;33m(\u001b[0m\u001b[0mx\u001b[0m\u001b[1;33m,\u001b[0m\u001b[0mt\u001b[0m\u001b[1;33m)\u001b[0m\u001b[1;33m,\u001b[0m \u001b[1;34m\"./mnist.pb\"\u001b[0m\u001b[1;33m)\u001b[0m\u001b[1;33m\u001b[0m\u001b[1;33m\u001b[0m\u001b[0m\n\u001b[0m\u001b[0;32m      8\u001b[0m \u001b[1;33m\u001b[0m\u001b[0m\n\u001b[0;32m      9\u001b[0m \u001b[1;33m\u001b[0m\u001b[0m\n",
      "\u001b[1;32mc:\\users\\imagry\\desktop\\linux\\converter\\lib\\site-packages\\torch\\onnx\\__init__.py\u001b[0m in \u001b[0;36mexport\u001b[1;34m(model, args, f, export_params, verbose, training, input_names, output_names, aten, export_raw_ir, operator_export_type, opset_version, _retain_param_name, do_constant_folding, example_outputs, strip_doc_string, dynamic_axes, keep_initializers_as_inputs, custom_opsets, enable_onnx_checker, use_external_data_format)\u001b[0m\n\u001b[0;32m    228\u001b[0m                         \u001b[0mdo_constant_folding\u001b[0m\u001b[1;33m,\u001b[0m \u001b[0mexample_outputs\u001b[0m\u001b[1;33m,\u001b[0m\u001b[1;33m\u001b[0m\u001b[1;33m\u001b[0m\u001b[0m\n\u001b[0;32m    229\u001b[0m                         \u001b[0mstrip_doc_string\u001b[0m\u001b[1;33m,\u001b[0m \u001b[0mdynamic_axes\u001b[0m\u001b[1;33m,\u001b[0m \u001b[0mkeep_initializers_as_inputs\u001b[0m\u001b[1;33m,\u001b[0m\u001b[1;33m\u001b[0m\u001b[1;33m\u001b[0m\u001b[0m\n\u001b[1;32m--> 230\u001b[1;33m                         custom_opsets, enable_onnx_checker, use_external_data_format)\n\u001b[0m\u001b[0;32m    231\u001b[0m \u001b[1;33m\u001b[0m\u001b[0m\n\u001b[0;32m    232\u001b[0m \u001b[1;33m\u001b[0m\u001b[0m\n",
      "\u001b[1;32mc:\\users\\imagry\\desktop\\linux\\converter\\lib\\site-packages\\torch\\onnx\\utils.py\u001b[0m in \u001b[0;36mexport\u001b[1;34m(model, args, f, export_params, verbose, training, input_names, output_names, aten, export_raw_ir, operator_export_type, opset_version, _retain_param_name, do_constant_folding, example_outputs, strip_doc_string, dynamic_axes, keep_initializers_as_inputs, custom_opsets, enable_onnx_checker, use_external_data_format)\u001b[0m\n\u001b[0;32m     89\u001b[0m             \u001b[0mdynamic_axes\u001b[0m\u001b[1;33m=\u001b[0m\u001b[0mdynamic_axes\u001b[0m\u001b[1;33m,\u001b[0m \u001b[0mkeep_initializers_as_inputs\u001b[0m\u001b[1;33m=\u001b[0m\u001b[0mkeep_initializers_as_inputs\u001b[0m\u001b[1;33m,\u001b[0m\u001b[1;33m\u001b[0m\u001b[1;33m\u001b[0m\u001b[0m\n\u001b[0;32m     90\u001b[0m             \u001b[0mcustom_opsets\u001b[0m\u001b[1;33m=\u001b[0m\u001b[0mcustom_opsets\u001b[0m\u001b[1;33m,\u001b[0m \u001b[0menable_onnx_checker\u001b[0m\u001b[1;33m=\u001b[0m\u001b[0menable_onnx_checker\u001b[0m\u001b[1;33m,\u001b[0m\u001b[1;33m\u001b[0m\u001b[1;33m\u001b[0m\u001b[0m\n\u001b[1;32m---> 91\u001b[1;33m             use_external_data_format=use_external_data_format)\n\u001b[0m\u001b[0;32m     92\u001b[0m \u001b[1;33m\u001b[0m\u001b[0m\n\u001b[0;32m     93\u001b[0m \u001b[1;33m\u001b[0m\u001b[0m\n",
      "\u001b[1;32mc:\\users\\imagry\\desktop\\linux\\converter\\lib\\site-packages\\torch\\onnx\\utils.py\u001b[0m in \u001b[0;36m_export\u001b[1;34m(model, args, f, export_params, verbose, training, input_names, output_names, operator_export_type, export_type, example_outputs, opset_version, _retain_param_name, do_constant_folding, strip_doc_string, dynamic_axes, keep_initializers_as_inputs, fixed_batch_size, custom_opsets, add_node_names, enable_onnx_checker, use_external_data_format, onnx_shape_inference, use_new_jit_passes)\u001b[0m\n\u001b[0;32m    637\u001b[0m                                 \u001b[0mtraining\u001b[0m\u001b[1;33m=\u001b[0m\u001b[0mtraining\u001b[0m\u001b[1;33m,\u001b[0m\u001b[1;33m\u001b[0m\u001b[1;33m\u001b[0m\u001b[0m\n\u001b[0;32m    638\u001b[0m                                 \u001b[0muse_new_jit_passes\u001b[0m\u001b[1;33m=\u001b[0m\u001b[0muse_new_jit_passes\u001b[0m\u001b[1;33m,\u001b[0m\u001b[1;33m\u001b[0m\u001b[1;33m\u001b[0m\u001b[0m\n\u001b[1;32m--> 639\u001b[1;33m                                 dynamic_axes=dynamic_axes)\n\u001b[0m\u001b[0;32m    640\u001b[0m \u001b[1;33m\u001b[0m\u001b[0m\n\u001b[0;32m    641\u001b[0m             \u001b[1;31m# TODO: Don't allocate a in-memory string for the protobuf\u001b[0m\u001b[1;33m\u001b[0m\u001b[1;33m\u001b[0m\u001b[1;33m\u001b[0m\u001b[0m\n",
      "\u001b[1;32mc:\\users\\imagry\\desktop\\linux\\converter\\lib\\site-packages\\torch\\onnx\\utils.py\u001b[0m in \u001b[0;36m_model_to_graph\u001b[1;34m(model, args, verbose, input_names, output_names, operator_export_type, example_outputs, _retain_param_name, do_constant_folding, _disable_torch_constant_prop, fixed_batch_size, training, use_new_jit_passes, dynamic_axes)\u001b[0m\n\u001b[0;32m    419\u001b[0m                             \u001b[0mfixed_batch_size\u001b[0m\u001b[1;33m=\u001b[0m\u001b[0mfixed_batch_size\u001b[0m\u001b[1;33m,\u001b[0m \u001b[0mparams_dict\u001b[0m\u001b[1;33m=\u001b[0m\u001b[0mparams_dict\u001b[0m\u001b[1;33m,\u001b[0m\u001b[1;33m\u001b[0m\u001b[1;33m\u001b[0m\u001b[0m\n\u001b[0;32m    420\u001b[0m                             \u001b[0muse_new_jit_passes\u001b[0m\u001b[1;33m=\u001b[0m\u001b[0muse_new_jit_passes\u001b[0m\u001b[1;33m,\u001b[0m\u001b[1;33m\u001b[0m\u001b[1;33m\u001b[0m\u001b[0m\n\u001b[1;32m--> 421\u001b[1;33m                             dynamic_axes=dynamic_axes, input_names=input_names)\n\u001b[0m\u001b[0;32m    422\u001b[0m     \u001b[1;32mfrom\u001b[0m \u001b[0mtorch\u001b[0m\u001b[1;33m.\u001b[0m\u001b[0monnx\u001b[0m\u001b[1;33m.\u001b[0m\u001b[0msymbolic_helper\u001b[0m \u001b[1;32mimport\u001b[0m \u001b[0m_onnx_shape_inference\u001b[0m\u001b[1;33m\u001b[0m\u001b[1;33m\u001b[0m\u001b[0m\n\u001b[0;32m    423\u001b[0m     \u001b[1;32mif\u001b[0m \u001b[0misinstance\u001b[0m\u001b[1;33m(\u001b[0m\u001b[0mmodel\u001b[0m\u001b[1;33m,\u001b[0m \u001b[0mtorch\u001b[0m\u001b[1;33m.\u001b[0m\u001b[0mjit\u001b[0m\u001b[1;33m.\u001b[0m\u001b[0mScriptModule\u001b[0m\u001b[1;33m)\u001b[0m \u001b[1;32mor\u001b[0m \u001b[0misinstance\u001b[0m\u001b[1;33m(\u001b[0m\u001b[0mmodel\u001b[0m\u001b[1;33m,\u001b[0m \u001b[0mtorch\u001b[0m\u001b[1;33m.\u001b[0m\u001b[0mjit\u001b[0m\u001b[1;33m.\u001b[0m\u001b[0mScriptFunction\u001b[0m\u001b[1;33m)\u001b[0m\u001b[1;33m:\u001b[0m\u001b[1;33m\u001b[0m\u001b[1;33m\u001b[0m\u001b[0m\n",
      "\u001b[1;32mc:\\users\\imagry\\desktop\\linux\\converter\\lib\\site-packages\\torch\\onnx\\utils.py\u001b[0m in \u001b[0;36m_optimize_graph\u001b[1;34m(graph, operator_export_type, _disable_torch_constant_prop, fixed_batch_size, params_dict, use_new_jit_passes, dynamic_axes, input_names)\u001b[0m\n\u001b[0;32m    201\u001b[0m             \u001b[0mdynamic_axes\u001b[0m \u001b[1;33m=\u001b[0m \u001b[1;33m{\u001b[0m\u001b[1;33m}\u001b[0m \u001b[1;32mif\u001b[0m \u001b[0mdynamic_axes\u001b[0m \u001b[1;32mis\u001b[0m \u001b[1;32mNone\u001b[0m \u001b[1;32melse\u001b[0m \u001b[0mdynamic_axes\u001b[0m\u001b[1;33m\u001b[0m\u001b[1;33m\u001b[0m\u001b[0m\n\u001b[0;32m    202\u001b[0m             \u001b[0mtorch\u001b[0m\u001b[1;33m.\u001b[0m\u001b[0m_C\u001b[0m\u001b[1;33m.\u001b[0m\u001b[0m_jit_pass_onnx_set_dynamic_input_shape\u001b[0m\u001b[1;33m(\u001b[0m\u001b[0mgraph\u001b[0m\u001b[1;33m,\u001b[0m \u001b[0mdynamic_axes\u001b[0m\u001b[1;33m,\u001b[0m \u001b[0minput_names\u001b[0m\u001b[1;33m)\u001b[0m\u001b[1;33m\u001b[0m\u001b[1;33m\u001b[0m\u001b[0m\n\u001b[1;32m--> 203\u001b[1;33m         \u001b[0mgraph\u001b[0m \u001b[1;33m=\u001b[0m \u001b[0mtorch\u001b[0m\u001b[1;33m.\u001b[0m\u001b[0m_C\u001b[0m\u001b[1;33m.\u001b[0m\u001b[0m_jit_pass_onnx\u001b[0m\u001b[1;33m(\u001b[0m\u001b[0mgraph\u001b[0m\u001b[1;33m,\u001b[0m \u001b[0moperator_export_type\u001b[0m\u001b[1;33m)\u001b[0m\u001b[1;33m\u001b[0m\u001b[1;33m\u001b[0m\u001b[0m\n\u001b[0m\u001b[0;32m    204\u001b[0m         \u001b[0mtorch\u001b[0m\u001b[1;33m.\u001b[0m\u001b[0m_C\u001b[0m\u001b[1;33m.\u001b[0m\u001b[0m_jit_pass_lint\u001b[0m\u001b[1;33m(\u001b[0m\u001b[0mgraph\u001b[0m\u001b[1;33m)\u001b[0m\u001b[1;33m\u001b[0m\u001b[1;33m\u001b[0m\u001b[0m\n\u001b[0;32m    205\u001b[0m \u001b[1;33m\u001b[0m\u001b[0m\n",
      "\u001b[1;32mc:\\users\\imagry\\desktop\\linux\\converter\\lib\\site-packages\\torch\\onnx\\__init__.py\u001b[0m in \u001b[0;36m_run_symbolic_function\u001b[1;34m(*args, **kwargs)\u001b[0m\n\u001b[0;32m    261\u001b[0m \u001b[1;32mdef\u001b[0m \u001b[0m_run_symbolic_function\u001b[0m\u001b[1;33m(\u001b[0m\u001b[1;33m*\u001b[0m\u001b[0margs\u001b[0m\u001b[1;33m,\u001b[0m \u001b[1;33m**\u001b[0m\u001b[0mkwargs\u001b[0m\u001b[1;33m)\u001b[0m\u001b[1;33m:\u001b[0m\u001b[1;33m\u001b[0m\u001b[1;33m\u001b[0m\u001b[0m\n\u001b[0;32m    262\u001b[0m     \u001b[1;32mfrom\u001b[0m \u001b[0mtorch\u001b[0m\u001b[1;33m.\u001b[0m\u001b[0monnx\u001b[0m \u001b[1;32mimport\u001b[0m \u001b[0mutils\u001b[0m\u001b[1;33m\u001b[0m\u001b[1;33m\u001b[0m\u001b[0m\n\u001b[1;32m--> 263\u001b[1;33m     \u001b[1;32mreturn\u001b[0m \u001b[0mutils\u001b[0m\u001b[1;33m.\u001b[0m\u001b[0m_run_symbolic_function\u001b[0m\u001b[1;33m(\u001b[0m\u001b[1;33m*\u001b[0m\u001b[0margs\u001b[0m\u001b[1;33m,\u001b[0m \u001b[1;33m**\u001b[0m\u001b[0mkwargs\u001b[0m\u001b[1;33m)\u001b[0m\u001b[1;33m\u001b[0m\u001b[1;33m\u001b[0m\u001b[0m\n\u001b[0m\u001b[0;32m    264\u001b[0m \u001b[1;33m\u001b[0m\u001b[0m\n\u001b[0;32m    265\u001b[0m \u001b[1;33m\u001b[0m\u001b[0m\n",
      "\u001b[1;32mc:\\users\\imagry\\desktop\\linux\\converter\\lib\\site-packages\\torch\\onnx\\utils.py\u001b[0m in \u001b[0;36m_run_symbolic_function\u001b[1;34m(g, n, inputs, env, operator_export_type)\u001b[0m\n\u001b[0;32m    928\u001b[0m                 \u001b[1;31m# Export it regularly\u001b[0m\u001b[1;33m\u001b[0m\u001b[1;33m\u001b[0m\u001b[1;33m\u001b[0m\u001b[0m\n\u001b[0;32m    929\u001b[0m                 \u001b[0mdomain\u001b[0m \u001b[1;33m=\u001b[0m \u001b[1;34m''\u001b[0m\u001b[1;33m\u001b[0m\u001b[1;33m\u001b[0m\u001b[0m\n\u001b[1;32m--> 930\u001b[1;33m                 \u001b[0msymbolic_fn\u001b[0m \u001b[1;33m=\u001b[0m \u001b[0m_find_symbolic_in_registry\u001b[0m\u001b[1;33m(\u001b[0m\u001b[0mdomain\u001b[0m\u001b[1;33m,\u001b[0m \u001b[0mop_name\u001b[0m\u001b[1;33m,\u001b[0m \u001b[0mopset_version\u001b[0m\u001b[1;33m,\u001b[0m \u001b[0moperator_export_type\u001b[0m\u001b[1;33m)\u001b[0m\u001b[1;33m\u001b[0m\u001b[1;33m\u001b[0m\u001b[0m\n\u001b[0m\u001b[0;32m    931\u001b[0m                 \u001b[1;32mif\u001b[0m \u001b[0msymbolic_fn\u001b[0m \u001b[1;32mis\u001b[0m \u001b[1;32mNone\u001b[0m\u001b[1;33m:\u001b[0m\u001b[1;33m\u001b[0m\u001b[1;33m\u001b[0m\u001b[0m\n\u001b[0;32m    932\u001b[0m                     \u001b[1;32mreturn\u001b[0m \u001b[1;32mNone\u001b[0m\u001b[1;33m\u001b[0m\u001b[1;33m\u001b[0m\u001b[0m\n",
      "\u001b[1;32mc:\\users\\imagry\\desktop\\linux\\converter\\lib\\site-packages\\torch\\onnx\\utils.py\u001b[0m in \u001b[0;36m_find_symbolic_in_registry\u001b[1;34m(domain, op_name, opset_version, operator_export_type)\u001b[0m\n\u001b[0;32m    886\u001b[0m             \u001b[1;31m# Use the original node directly\u001b[0m\u001b[1;33m\u001b[0m\u001b[1;33m\u001b[0m\u001b[1;33m\u001b[0m\u001b[0m\n\u001b[0;32m    887\u001b[0m             \u001b[1;32mreturn\u001b[0m \u001b[1;32mNone\u001b[0m\u001b[1;33m\u001b[0m\u001b[1;33m\u001b[0m\u001b[0m\n\u001b[1;32m--> 888\u001b[1;33m     \u001b[1;32mreturn\u001b[0m \u001b[0msym_registry\u001b[0m\u001b[1;33m.\u001b[0m\u001b[0mget_registered_op\u001b[0m\u001b[1;33m(\u001b[0m\u001b[0mop_name\u001b[0m\u001b[1;33m,\u001b[0m \u001b[0mdomain\u001b[0m\u001b[1;33m,\u001b[0m \u001b[0mopset_version\u001b[0m\u001b[1;33m)\u001b[0m\u001b[1;33m\u001b[0m\u001b[1;33m\u001b[0m\u001b[0m\n\u001b[0m\u001b[0;32m    889\u001b[0m \u001b[1;33m\u001b[0m\u001b[0m\n\u001b[0;32m    890\u001b[0m \u001b[1;33m\u001b[0m\u001b[0m\n",
      "\u001b[1;32mc:\\users\\imagry\\desktop\\linux\\converter\\lib\\site-packages\\torch\\onnx\\symbolic_registry.py\u001b[0m in \u001b[0;36mget_registered_op\u001b[1;34m(opname, domain, version)\u001b[0m\n\u001b[0;32m    109\u001b[0m         \u001b[1;32melse\u001b[0m\u001b[1;33m:\u001b[0m\u001b[1;33m\u001b[0m\u001b[1;33m\u001b[0m\u001b[0m\n\u001b[0;32m    110\u001b[0m             \u001b[0mmsg\u001b[0m \u001b[1;33m+=\u001b[0m \u001b[1;34m\"Please open a bug to request ONNX export support for the missing operator.\"\u001b[0m\u001b[1;33m\u001b[0m\u001b[1;33m\u001b[0m\u001b[0m\n\u001b[1;32m--> 111\u001b[1;33m         \u001b[1;32mraise\u001b[0m \u001b[0mRuntimeError\u001b[0m\u001b[1;33m(\u001b[0m\u001b[0mmsg\u001b[0m\u001b[1;33m)\u001b[0m\u001b[1;33m\u001b[0m\u001b[1;33m\u001b[0m\u001b[0m\n\u001b[0m\u001b[0;32m    112\u001b[0m     \u001b[1;32mreturn\u001b[0m \u001b[0m_registry\u001b[0m\u001b[1;33m[\u001b[0m\u001b[1;33m(\u001b[0m\u001b[0mdomain\u001b[0m\u001b[1;33m,\u001b[0m \u001b[0mversion\u001b[0m\u001b[1;33m)\u001b[0m\u001b[1;33m]\u001b[0m\u001b[1;33m[\u001b[0m\u001b[0mopname\u001b[0m\u001b[1;33m]\u001b[0m\u001b[1;33m\u001b[0m\u001b[1;33m\u001b[0m\u001b[0m\n",
      "\u001b[1;31mRuntimeError\u001b[0m: Exporting the operator einsum to ONNX opset version 9 is not supported. Support for this operator was added in version 12, try exporting with this version."
     ]
    }
   ],
   "source": [
    "import hiddenlayer as hl\n",
    "\n",
    "x = torch.randn(10, 3, 32, 32)\n",
    "t = torch.tensor([50.], dtype=torch.long)\n",
    "model = unet.UNet(n_channels=32)\n",
    "\n",
    "torch.onnx.export(model, (x,t), \"./mnist.pb\")\n",
    "\n",
    "\n",
    "\n",
    "#hl.build_graph(model,(x,t))\n"
   ]
  },
  {
   "cell_type": "code",
   "execution_count": null,
   "id": "9e21dcfe",
   "metadata": {},
   "outputs": [],
   "source": []
  }
 ],
 "metadata": {
  "kernelspec": {
   "display_name": "Python 3 (ipykernel)",
   "language": "python",
   "name": "python3"
  },
  "language_info": {
   "codemirror_mode": {
    "name": "ipython",
    "version": 3
   },
   "file_extension": ".py",
   "mimetype": "text/x-python",
   "name": "python",
   "nbconvert_exporter": "python",
   "pygments_lexer": "ipython3",
   "version": "3.7.7"
  }
 },
 "nbformat": 4,
 "nbformat_minor": 5
}
